{
 "cells": [
  {
   "cell_type": "code",
   "execution_count": 1,
   "id": "575d8dad-db9b-415f-8aad-b09a91c061dd",
   "metadata": {},
   "outputs": [],
   "source": [
    "# Student Name: Lim Hooi Ern\n",
    "# Student ID: B230060A"
   ]
  },
  {
   "cell_type": "code",
   "execution_count": 2,
   "id": "684d06bb-56a9-4fa3-ae61-dbf042bc1f16",
   "metadata": {},
   "outputs": [
    {
     "name": "stdin",
     "output_type": "stream",
     "text": [
      "Guess a letter:  h\n"
     ]
    },
    {
     "name": "stdout",
     "output_type": "stream",
     "text": [
      "Incorrect guesses: 1\n",
      "Incorrect guess. 5 guesses remaining.\n",
      "\n",
      "        -----------\n",
      "            O\n",
      "        \n",
      "_ _ _ _ _ _ _ _\n"
     ]
    },
    {
     "name": "stdin",
     "output_type": "stream",
     "text": [
      "Guess a letter:  i\n"
     ]
    },
    {
     "name": "stdout",
     "output_type": "stream",
     "text": [
      "Incorrect guesses: 2\n",
      "Incorrect guess. 4 guesses remaining.\n",
      "\n",
      "        -----------\n",
      "            O\n",
      "            |\n",
      "        \n",
      "_ _ _ _ _ _ _ _\n"
     ]
    },
    {
     "name": "stdin",
     "output_type": "stream",
     "text": [
      "Guess a letter:  n\n"
     ]
    },
    {
     "name": "stdout",
     "output_type": "stream",
     "text": [
      "Incorrect guesses: 3\n",
      "Incorrect guess. 3 guesses remaining.\n",
      "\n",
      "        -----------\n",
      "            O\n",
      "           /|\n",
      "        \n",
      "_ _ _ _ _ _ _ _\n"
     ]
    },
    {
     "name": "stdin",
     "output_type": "stream",
     "text": [
      "Guess a letter:  t\n"
     ]
    },
    {
     "name": "stdout",
     "output_type": "stream",
     "text": [
      "Good guess!\n",
      "\n",
      "        -----------\n",
      "            O\n",
      "           /|\n",
      "        \n",
      "_ _ T _ _ _ _ _\n"
     ]
    },
    {
     "name": "stdin",
     "output_type": "stream",
     "text": [
      "Guess a letter:  t\n"
     ]
    },
    {
     "name": "stdout",
     "output_type": "stream",
     "text": [
      "Incorrect guesses: 4\n",
      "You've already guessed that letter.\n",
      "----------\n"
     ]
    },
    {
     "name": "stdin",
     "output_type": "stream",
     "text": [
      "Guess a letter:  a\n"
     ]
    },
    {
     "name": "stdout",
     "output_type": "stream",
     "text": [
      "Good guess!\n",
      "\n",
      "        -----------\n",
      "            O\n",
      "           /|\\\n",
      "        \n",
      "_ A T A _ A _ _\n"
     ]
    },
    {
     "name": "stdin",
     "output_type": "stream",
     "text": [
      "Guess a letter:  d\n"
     ]
    },
    {
     "name": "stdout",
     "output_type": "stream",
     "text": [
      "Good guess!\n",
      "\n",
      "        -----------\n",
      "            O\n",
      "           /|\\\n",
      "        \n",
      "D A T A _ A _ _\n"
     ]
    },
    {
     "name": "stdin",
     "output_type": "stream",
     "text": [
      "Guess a letter:  b\n"
     ]
    },
    {
     "name": "stdout",
     "output_type": "stream",
     "text": [
      "Good guess!\n",
      "\n",
      "        -----------\n",
      "            O\n",
      "           /|\\\n",
      "        \n",
      "D A T A B A _ _\n"
     ]
    },
    {
     "name": "stdin",
     "output_type": "stream",
     "text": [
      "Guess a letter:  s\n"
     ]
    },
    {
     "name": "stdout",
     "output_type": "stream",
     "text": [
      "Good guess!\n",
      "\n",
      "        -----------\n",
      "            O\n",
      "           /|\\\n",
      "        \n",
      "D A T A B A S _\n"
     ]
    },
    {
     "name": "stdin",
     "output_type": "stream",
     "text": [
      "Guess a letter:  e\n"
     ]
    },
    {
     "name": "stdout",
     "output_type": "stream",
     "text": [
      "Good guess!\n",
      "\n",
      "        -----------\n",
      "            O\n",
      "           /|\\\n",
      "        \n",
      "D A T A B A S E\n",
      "Congratulations! You've guessed the word!\n"
     ]
    }
   ],
   "source": [
    "import random\n",
    "\n",
    "def hangman():\n",
    "    def display_hangman(incorrect_guesses):\n",
    "        hangman_visual = [\n",
    "                    \"\"\"\n",
    "        -----------\n",
    "        \"\"\",\n",
    "                    \"\"\"\n",
    "        -----------\n",
    "            O\n",
    "        \"\"\",\n",
    "                    \"\"\"\n",
    "        -----------\n",
    "            O\n",
    "            |\n",
    "        \"\"\",\n",
    "                    \"\"\"\n",
    "        -----------\n",
    "            O\n",
    "           /|\n",
    "        \"\"\",\n",
    "                    \"\"\"\n",
    "        -----------\n",
    "            O\n",
    "           /|\\\\\n",
    "        \"\"\",\n",
    "                    \"\"\"\n",
    "        -----------\n",
    "            O\n",
    "           /|\\\\\n",
    "           /\n",
    "        \"\"\",\n",
    "                    \"\"\"\n",
    "        -----------\n",
    "            O\n",
    "           /|\\\\\n",
    "           / \\\\\n",
    "        \"\"\"\n",
    "        ]\n",
    "        return hangman_visual[incorrect_guesses]\n",
    "\n",
    "    word_list = [\"numbers\", \"hangman\", \"microsoft\", \"university\", \"software\", \"internet\", \"database\"]\n",
    "    word_to_guess = random.choice(word_list).upper()\n",
    "    hidden_word = [\"_\"] * len(word_to_guess)\n",
    "    guessed_letters = set()\n",
    "    max_incorrect_guesses = 6\n",
    "    incorrect_guesses = 0\n",
    "\n",
    "    # Main game loop\n",
    "    while incorrect_guesses < max_incorrect_guesses and \"_\" in hidden_word:\n",
    "        guess = input(\"Guess a letter: \").upper()\n",
    "\n",
    "        if len(guess) != 1 or not guess.isalpha():\n",
    "            print(\"Invalid input. Please enter a single letter.\")\n",
    "            continue\n",
    "\n",
    "        if guess in guessed_letters:\n",
    "            incorrect_guesses += 1\n",
    "            print(f\"Incorrect guesses: {incorrect_guesses}\")\n",
    "            print(\"You've already guessed that letter.\")\n",
    "            print(\"-\" * 10)\n",
    "            continue\n",
    "\n",
    "        guessed_letters.add(guess)\n",
    "\n",
    "        if guess in word_to_guess:\n",
    "            for idx, letter in enumerate(word_to_guess):\n",
    "                if letter == guess:\n",
    "                    hidden_word[idx] = guess\n",
    "            print(\"Good guess!\")\n",
    "        else:\n",
    "            incorrect_guesses += 1\n",
    "            print(f\"Incorrect guesses: {incorrect_guesses}\")\n",
    "            print(f\"Incorrect guess. {max_incorrect_guesses - incorrect_guesses} guesses remaining.\")\n",
    "\n",
    "        print(display_hangman(incorrect_guesses))\n",
    "        print(\" \".join(hidden_word))\n",
    "\n",
    "    if \"_\" not in hidden_word:\n",
    "        print(\"Congratulations! You've guessed the word!\")\n",
    "    else:\n",
    "        print(f\"Sorry, you've run out of guesses. The word was {word_to_guess}.\")\n",
    "\n",
    "# Run the hangman game\n",
    "hangman()\n"
   ]
  },
  {
   "cell_type": "code",
   "execution_count": null,
   "id": "ead33ac3-4337-4613-a8b9-d75771d51dcd",
   "metadata": {},
   "outputs": [],
   "source": []
  },
  {
   "cell_type": "code",
   "execution_count": null,
   "id": "fb13474c-1fd6-4a90-b83f-5319720f25da",
   "metadata": {},
   "outputs": [],
   "source": []
  }
 ],
 "metadata": {
  "kernelspec": {
   "display_name": "Python 3 (ipykernel)",
   "language": "python",
   "name": "python3"
  },
  "language_info": {
   "codemirror_mode": {
    "name": "ipython",
    "version": 3
   },
   "file_extension": ".py",
   "mimetype": "text/x-python",
   "name": "python",
   "nbconvert_exporter": "python",
   "pygments_lexer": "ipython3",
   "version": "3.11.7"
  }
 },
 "nbformat": 4,
 "nbformat_minor": 5
}
